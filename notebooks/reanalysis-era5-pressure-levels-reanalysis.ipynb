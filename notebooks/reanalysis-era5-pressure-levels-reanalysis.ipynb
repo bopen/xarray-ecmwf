{
 "cells": [
  {
   "cell_type": "code",
   "execution_count": null,
   "id": "48d13bb9",
   "metadata": {},
   "outputs": [],
   "source": [
    "from cartopy import crs\n",
    "from matplotlib import pyplot as plt\n",
    "import xarray as xr"
   ]
  },
  {
   "cell_type": "code",
   "execution_count": null,
   "id": "6af504b5",
   "metadata": {},
   "outputs": [],
   "source": [
    "# import distributed\n",
    "#\n",
    "# client = distributed.Client()\n",
    "# client"
   ]
  },
  {
   "cell_type": "code",
   "execution_count": null,
   "id": "99207813",
   "metadata": {},
   "outputs": [],
   "source": [
    "request = {\n",
    "    \"dataset\": \"reanalysis-era5-pressure-levels\",\n",
    "    \"product_type\": \"reanalysis\",\n",
    "    \"variable\": [\"temperature\"],\n",
    "    \"pressure_level\": [850, 500],\n",
    "    \"date\": [\"2023-01-01/2023-07-31\"],\n",
    "    \"time\": [f\"{h:02}:00\" for h in range(24)],\n",
    "}\n",
    "italy = dict(latitude=slice(47, 35), longitude=slice(6, 19))"
   ]
  },
  {
   "cell_type": "code",
   "execution_count": null,
   "id": "5f69d13a",
   "metadata": {},
   "outputs": [],
   "source": [
    "ds = xr.open_dataset(\n",
    "    request,\n",
    "    engine=\"ecmwf\",\n",
    "    request_chunks={\"pressure_level\": 1, \"day\" : 1},\n",
    "    cache_kwargs={\"cache_file\": True},\n",
    "    chunks={},\n",
    ")\n",
    "ds"
   ]
  },
  {
   "cell_type": "code",
   "execution_count": null,
   "id": "2cdb02f5",
   "metadata": {},
   "outputs": [],
   "source": [
    "f, ax = plt.subplots(subplot_kw={\"projection\": crs.PlateCarree()})\n",
    "ds.temperature.sel(**italy, time=\"2023-05-16T20:00\", isobaricInhPa=500).plot(ax=ax)\n",
    "_ = ax.coastlines()"
   ]
  },
  {
   "cell_type": "code",
   "execution_count": null,
   "id": "d89d4def",
   "metadata": {},
   "outputs": [],
   "source": [
    "f, ax = plt.subplots(subplot_kw={\"projection\": crs.PlateCarree()})\n",
    "ds.temperature.sel(**italy, time=slice(\"2023-05-16\", \"2023-05-17\"), isobaricInhPa=850).mean(\"time\", keep_attrs=True).plot(ax=ax)\n",
    "_ = ax.coastlines()"
   ]
  },
  {
   "cell_type": "code",
   "execution_count": null,
   "id": "8e499b6e-2c27-4a6f-91fe-2b0946e41774",
   "metadata": {},
   "outputs": [],
   "source": []
  },
  {
   "cell_type": "code",
   "execution_count": null,
   "id": "650cfd42",
   "metadata": {},
   "outputs": [],
   "source": []
  },
  {
   "cell_type": "code",
   "execution_count": null,
   "id": "2d94f089",
   "metadata": {},
   "outputs": [],
   "source": []
  }
 ],
 "metadata": {
  "kernelspec": {
   "display_name": "Python 3 (ipykernel)",
   "language": "python",
   "name": "python3"
  },
  "language_info": {
   "codemirror_mode": {
    "name": "ipython",
    "version": 3
   },
   "file_extension": ".py",
   "mimetype": "text/x-python",
   "name": "python",
   "nbconvert_exporter": "python",
   "pygments_lexer": "ipython3",
   "version": "3.11.5"
  }
 },
 "nbformat": 4,
 "nbformat_minor": 5
}
