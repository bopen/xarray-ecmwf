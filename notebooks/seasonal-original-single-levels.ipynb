{
 "cells": [
  {
   "cell_type": "code",
   "execution_count": null,
   "id": "48d13bb9",
   "metadata": {},
   "outputs": [],
   "source": [
    "import os\n",
    "\n",
    "from cartopy import crs\n",
    "import distributed\n",
    "from matplotlib import pyplot as plt\n",
    "import pandas as pd\n",
    "import xarray as xr\n",
    "\n",
    "_ = xr.set_options(keep_attrs=True)"
   ]
  },
  {
   "cell_type": "code",
   "execution_count": null,
   "id": "6af504b5",
   "metadata": {},
   "outputs": [],
   "source": [
    "# use a large filesystem for cahce\n",
    "#\n",
    "# os.chdir(\"/data\")\n",
    "\n",
    "# activate dask distributed\n",
    "#\n",
    "# client = distributed.Client(\"tcp://dask-scheduler:8786\")\n",
    "# client"
   ]
  },
  {
   "cell_type": "code",
   "execution_count": null,
   "id": "4e605f4d-5089-4f96-bbcb-8682a029cffe",
   "metadata": {},
   "outputs": [],
   "source": [
    "# !pip install ecmwf-opendata \n",
    "# !pip install -e ../"
   ]
  },
  {
   "cell_type": "code",
   "execution_count": null,
   "id": "99207813",
   "metadata": {},
   "outputs": [],
   "source": [
    "request = {\n",
    "    \"dataset\": \"seasonal-original-single-levels\",\n",
    "    \"originating_centre\": 'ecmwf',\n",
    "    \"system\": '51',\n",
    "    \"variable\": [\"2m_temperature\"],\n",
    "    \"year\": [\"2023\"],\n",
    "    \"month\": [\"09\"],\n",
    "    \"day\": [\"01\"],\n",
    "    \"time\": [\"00:00\"],\n",
    "    \"leadtime_hour\": [\n",
    "        \"180\", \"360\", \"540\",\n",
    "    ],\n",
    "}"
   ]
  },
  {
   "cell_type": "code",
   "execution_count": null,
   "id": "5f69d13a",
   "metadata": {},
   "outputs": [],
   "source": [
    "%%time\n",
    "\n",
    "ds = xr.open_dataset(\n",
    "    request,\n",
    "    engine=\"ecmwf\",\n",
    "    request_chunks={\"step\": 1},\n",
    "    cache_kwargs={\"cache_file\": True},\n",
    "    chunks={},\n",
    ")\n",
    "ds"
   ]
  },
  {
   "cell_type": "code",
   "execution_count": null,
   "id": "d3e2d862",
   "metadata": {},
   "outputs": [],
   "source": [
    "# visualisation\n",
    "\n",
    "italy = dict(lat=slice(35, 47), lon=slice(6, 19))\n",
    "vmax = 0.13\n",
    "projection = crs.EuroPP()\n",
    "cmap = \"Blues\""
   ]
  },
  {
   "cell_type": "code",
   "execution_count": null,
   "id": "217c163b-02b8-4ce9-936c-b43c46d63817",
   "metadata": {},
   "outputs": [],
   "source": [
    "ds.data_vars[\"2m_temperature\"].isel(step=1)"
   ]
  },
  {
   "cell_type": "code",
   "execution_count": null,
   "id": "2cdb02f5",
   "metadata": {},
   "outputs": [],
   "source": [
    "%%time\n",
    "\n",
    "f, ax = plt.subplots(subplot_kw={\"projection\": projection})\n",
    "ds.data_vars[\"2m_temperature\"].isel(step=2, number=1, latitude=slice(None, None, -1)).plot(ax=ax, transform=crs.PlateCarree())\n",
    "_ = ax.coastlines()"
   ]
  },
  {
   "cell_type": "code",
   "execution_count": null,
   "id": "d89d4def",
   "metadata": {},
   "outputs": [],
   "source": [
    "%%time\n",
    "\n",
    "f, ax = plt.subplots(subplot_kw={\"projection\": projection})\n",
    "ds.data_vars[\"2m_temperature\"].mean((\"step\", \"number\")).sel(latitude=slice(None, None, -1)).plot(ax=ax, transform=crs.PlateCarree())\n",
    "_ = ax.coastlines()"
   ]
  },
  {
   "cell_type": "code",
   "execution_count": null,
   "id": "2d589a9c-80c2-48df-9dc0-7668ec1fcba4",
   "metadata": {},
   "outputs": [],
   "source": []
  }
 ],
 "metadata": {
  "kernelspec": {
   "display_name": "Python 3 (ipykernel)",
   "language": "python",
   "name": "python3"
  },
  "language_info": {
   "codemirror_mode": {
    "name": "ipython",
    "version": 3
   },
   "file_extension": ".py",
   "mimetype": "text/x-python",
   "name": "python",
   "nbconvert_exporter": "python",
   "pygments_lexer": "ipython3",
   "version": "3.11.5"
  }
 },
 "nbformat": 4,
 "nbformat_minor": 5
}
