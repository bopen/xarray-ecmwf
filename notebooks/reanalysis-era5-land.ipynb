{
 "cells": [
  {
   "cell_type": "code",
   "execution_count": null,
   "id": "48d13bb9",
   "metadata": {},
   "outputs": [],
   "source": [
    "import os\n",
    "\n",
    "from cartopy import crs\n",
    "import distributed\n",
    "from matplotlib import pyplot as plt\n",
    "import pandas as pd\n",
    "import xarray as xr\n",
    "\n",
    "_ = xr.set_options(keep_attrs=True)"
   ]
  },
  {
   "cell_type": "code",
   "execution_count": null,
   "id": "6af504b5",
   "metadata": {},
   "outputs": [],
   "source": [
    "# use a large filesystem for cahce\n",
    "#\n",
    "# os.chdir(\"/data\")\n",
    "\n",
    "# activate dask distributed\n",
    "#\n",
    "# client = distributed.Client(\"tcp://dask-scheduler:8786\")\n",
    "# client"
   ]
  },
  {
   "cell_type": "code",
   "execution_count": null,
   "id": "4e605f4d-5089-4f96-bbcb-8682a029cffe",
   "metadata": {},
   "outputs": [],
   "source": [
    "# !pip install ecmwf-opendata \n",
    "# !pip install -e ../"
   ]
  },
  {
   "cell_type": "code",
   "execution_count": null,
   "id": "99207813",
   "metadata": {},
   "outputs": [],
   "source": [
    "request = {\n",
    "    \"dataset\": \"reanalysis-era5-land\",\n",
    "    \"variable\": [\"total_precipitation\"],\n",
    "    \"date\": [\"2022-01-01/2023-07-31\"],\n",
    "    \"time\": [f\"{h:02}:00\" for h in range(24)],\n",
    "    \"area\": [\"E\"],\n",
    "}"
   ]
  },
  {
   "cell_type": "code",
   "execution_count": null,
   "id": "5f69d13a",
   "metadata": {},
   "outputs": [],
   "source": [
    "%%time\n",
    "\n",
    "ds = xr.open_dataset(\n",
    "    request,\n",
    "    engine=\"ecmwf\",\n",
    "    request_chunks={\"day\": 10},\n",
    "    cache_kwargs={\"cache_file\": True},\n",
    "    chunks={},\n",
    ")\n",
    "ds"
   ]
  },
  {
   "cell_type": "code",
   "execution_count": null,
   "id": "d3e2d862",
   "metadata": {},
   "outputs": [],
   "source": [
    "# visualisation\n",
    "\n",
    "italy = dict(lat=slice(35, 47), lon=slice(6, 19))\n",
    "vmax = 0.13\n",
    "projection = crs.EuroPP()\n",
    "cmap = \"Blues\""
   ]
  },
  {
   "cell_type": "code",
   "execution_count": null,
   "id": "2cdb02f5",
   "metadata": {},
   "outputs": [],
   "source": [
    "%%time\n",
    "\n",
    "f, ax = plt.subplots(subplot_kw={\"projection\": projection})\n",
    "ds.total_precipitation.sel(time=[\"2023-05-16T18:00\", \"2023-05-16T19:00\"]).diff(\"time\").plot(ax=ax, cmap=cmap, vmax=vmax/24, transform=crs.PlateCarree())\n",
    "_ = ax.coastlines()"
   ]
  },
  {
   "cell_type": "code",
   "execution_count": null,
   "id": "d89d4def",
   "metadata": {},
   "outputs": [],
   "source": [
    "%%time\n",
    "\n",
    "f, ax = plt.subplots(subplot_kw={\"projection\": projection})\n",
    "ds.total_precipitation.sel(time=[\"2023-05-17T00:00\", \"2023-05-18T00:00\"]).sum(\"time\").plot(ax=ax, cmap=cmap, vmax=vmax, transform=crs.PlateCarree())\n",
    "_ = ax.coastlines()"
   ]
  },
  {
   "cell_type": "code",
   "execution_count": null,
   "id": "43fcdc77",
   "metadata": {},
   "outputs": [],
   "source": [
    "%%time\n",
    "\n",
    "f, ax = plt.subplots(subplot_kw={\"projection\": projection})\n",
    "ds.total_precipitation.sel(time=pd.date_range(\"2022-05-01\", \"2022-05-31\", freq=\"D\")).sum(\"time\").plot(ax=ax, cmap=cmap, vmax=vmax, transform=crs.PlateCarree())\n",
    "_ = ax.coastlines()"
   ]
  },
  {
   "cell_type": "code",
   "execution_count": null,
   "id": "2d589a9c-80c2-48df-9dc0-7668ec1fcba4",
   "metadata": {},
   "outputs": [],
   "source": []
  }
 ],
 "metadata": {
  "kernelspec": {
   "display_name": "Python 3 (ipykernel)",
   "language": "python",
   "name": "python3"
  },
  "language_info": {
   "codemirror_mode": {
    "name": "ipython",
    "version": 3
   },
   "file_extension": ".py",
   "mimetype": "text/x-python",
   "name": "python",
   "nbconvert_exporter": "python",
   "pygments_lexer": "ipython3",
   "version": "3.11.5"
  }
 },
 "nbformat": 4,
 "nbformat_minor": 5
}
