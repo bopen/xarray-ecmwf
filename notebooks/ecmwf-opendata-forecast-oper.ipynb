{
 "cells": [
  {
   "cell_type": "code",
   "execution_count": null,
   "id": "48d13bb9",
   "metadata": {},
   "outputs": [],
   "source": [
    "import os\n",
    "\n",
    "from cartopy import crs\n",
    "import distributed\n",
    "from matplotlib import pyplot as plt\n",
    "import pandas as pd\n",
    "import xarray as xr\n",
    "\n",
    "_ = xr.set_options(keep_attrs=True)"
   ]
  },
  {
   "cell_type": "code",
   "execution_count": null,
   "id": "6af504b5",
   "metadata": {},
   "outputs": [],
   "source": [
    "# use a large filesystem for cahce\n",
    "#\n",
    "# os.chdir(\"/data\")\n",
    "\n",
    "# activate dask distributed\n",
    "#\n",
    "# client = distributed.Client(\"tcp://dask-scheduler:8786\")\n",
    "# client"
   ]
  },
  {
   "cell_type": "code",
   "execution_count": null,
   "id": "99207813",
   "metadata": {
    "execution": {
     "iopub.execute_input": "2023-10-02T16:05:21.786290Z",
     "iopub.status.busy": "2023-10-02T16:05:21.785618Z",
     "iopub.status.idle": "2023-10-02T16:05:21.796079Z",
     "shell.execute_reply": "2023-10-02T16:05:21.795166Z",
     "shell.execute_reply.started": "2023-10-02T16:05:21.786245Z"
    }
   },
   "outputs": [],
   "source": [
    "request = {\n",
    "    \"source\": \"ecmwf\",\n",
    "    \"type\": \"fc\",\n",
    "    \"param\": [\"2t\"],\n",
    "    \"date\": -1,\n",
    "    \"step\": list(range(0, 144 + 1, 3)),\n",
    "    \"time\": [\"0\"],\n",
    "}"
   ]
  },
  {
   "cell_type": "code",
   "execution_count": null,
   "id": "5f69d13a",
   "metadata": {
    "execution": {
     "iopub.execute_input": "2023-10-02T16:05:22.692487Z",
     "iopub.status.busy": "2023-10-02T16:05:22.692027Z",
     "iopub.status.idle": "2023-10-02T16:05:22.876225Z",
     "shell.execute_reply": "2023-10-02T16:05:22.875914Z",
     "shell.execute_reply.started": "2023-10-02T16:05:22.692455Z"
    }
   },
   "outputs": [],
   "source": [
    "%%time\n",
    "\n",
    "ds = xr.open_dataset(\n",
    "    request,\n",
    "    engine=\"ecmwf\",\n",
    "    client=\"ecmwf-opendata\",\n",
    "    cache_kwargs={\"cache_file\": True},\n",
    "    chunks={},\n",
    ")\n",
    "ds"
   ]
  },
  {
   "cell_type": "code",
   "execution_count": null,
   "id": "d3e2d862",
   "metadata": {
    "execution": {
     "iopub.execute_input": "2023-10-02T16:01:24.292316Z",
     "iopub.status.busy": "2023-10-02T16:01:24.292229Z",
     "iopub.status.idle": "2023-10-02T16:01:24.294531Z",
     "shell.execute_reply": "2023-10-02T16:01:24.294196Z",
     "shell.execute_reply.started": "2023-10-02T16:01:24.292308Z"
    }
   },
   "outputs": [],
   "source": [
    "# visualisation\n",
    "\n",
    "italy = dict(lat=slice(35, 47), lon=slice(6, 19))\n",
    "vmax = 0.13\n",
    "projection = crs.EuroPP()\n",
    "cmap = \"Blues\""
   ]
  },
  {
   "cell_type": "code",
   "execution_count": null,
   "id": "217c163b-02b8-4ce9-936c-b43c46d63817",
   "metadata": {
    "execution": {
     "iopub.execute_input": "2023-10-02T16:01:24.295010Z",
     "iopub.status.busy": "2023-10-02T16:01:24.294842Z",
     "iopub.status.idle": "2023-10-02T16:01:24.303636Z",
     "shell.execute_reply": "2023-10-02T16:01:24.303328Z",
     "shell.execute_reply.started": "2023-10-02T16:01:24.294989Z"
    }
   },
   "outputs": [],
   "source": [
    "ds.data_vars[\"2t\"].isel(step=1)"
   ]
  },
  {
   "cell_type": "code",
   "execution_count": null,
   "id": "2cdb02f5",
   "metadata": {
    "execution": {
     "iopub.execute_input": "2023-10-02T16:02:55.908812Z",
     "iopub.status.busy": "2023-10-02T16:02:55.908323Z",
     "iopub.status.idle": "2023-10-02T16:02:57.053932Z",
     "shell.execute_reply": "2023-10-02T16:02:57.053525Z",
     "shell.execute_reply.started": "2023-10-02T16:02:55.908786Z"
    }
   },
   "outputs": [],
   "source": [
    "%%time\n",
    "\n",
    "f, ax = plt.subplots(subplot_kw={\"projection\": projection})\n",
    "ds.data_vars[\"2t\"].isel(step=1, latitude=slice(None, None, -1)).plot(ax=ax, transform=crs.PlateCarree())\n",
    "_ = ax.coastlines()"
   ]
  },
  {
   "cell_type": "code",
   "execution_count": null,
   "id": "d89d4def",
   "metadata": {
    "execution": {
     "iopub.execute_input": "2023-10-02T16:03:13.266380Z",
     "iopub.status.busy": "2023-10-02T16:03:13.265988Z",
     "iopub.status.idle": "2023-10-02T16:03:14.489147Z",
     "shell.execute_reply": "2023-10-02T16:03:14.488868Z",
     "shell.execute_reply.started": "2023-10-02T16:03:13.266356Z"
    }
   },
   "outputs": [],
   "source": [
    "%%time\n",
    "\n",
    "f, ax = plt.subplots(subplot_kw={\"projection\": projection})\n",
    "ds.data_vars[\"2t\"].mean(\"step\").sel(latitude=slice(None, None, -1)).plot(ax=ax, transform=crs.PlateCarree())\n",
    "_ = ax.coastlines()"
   ]
  },
  {
   "cell_type": "code",
   "execution_count": null,
   "id": "42363ec8-c0e4-456e-a7bf-0b9f07f8cfd2",
   "metadata": {},
   "outputs": [],
   "source": []
  }
 ],
 "metadata": {
  "kernelspec": {
   "display_name": "Python 3 (ipykernel)",
   "language": "python",
   "name": "python3"
  },
  "language_info": {
   "codemirror_mode": {
    "name": "ipython",
    "version": 3
   },
   "file_extension": ".py",
   "mimetype": "text/x-python",
   "name": "python",
   "nbconvert_exporter": "python",
   "pygments_lexer": "ipython3",
   "version": "3.11.5"
  }
 },
 "nbformat": 4,
 "nbformat_minor": 5
}
